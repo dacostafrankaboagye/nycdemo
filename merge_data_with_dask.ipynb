{
 "cells": [
  {
   "cell_type": "code",
   "execution_count": null,
   "metadata": {},
   "outputs": [],
   "source": [
    "import os, logging\n",
    "import pandas as pd\n",
    "import dask"
   ]
  },
  {
   "cell_type": "code",
   "execution_count": null,
   "metadata": {
    "pycharm": {
     "name": "#%%\n"
    }
   },
   "outputs": [],
   "source": [
    "def convert_to_parquet(directory_from: str, directory_to: str):\n",
    "    \"\"\"convert csv in `directory_from` to parquet format in `directory_to`\"\"\"\n",
    "    csv_files = sorted([directory_from + f for f in os.listdir(directory_from)])\n",
    "    i = 0\n",
    "    for csv_file in csv_files:\n",
    "        i += 1\n",
    "        filename = csv_file.split(\"/\")[-1][:-4]\n",
    "        newfilepath = directory_to + filename + \".parquet\"\n",
    "        logging.debug(f\"parquetifying file {i} of {len(csv_files)}...\")\n",
    "\n",
    "        csv_df = pd.read_csv(csv_file)\n",
    "        csv_df.columns = [col.lower().replace(\" \", \"\") for col in csv_df.columns]\n",
    "        csv_df.dropna(inplace=True)  # remove NAs for trips to stations in the Bronx\n",
    "        csv_df[\"birthyear\"] = csv_df[\"birthyear\"].replace(\n",
    "            r\"\\\\N\", \"0\", regex=True\n",
    "        )  # replace \\N with string '0'\n",
    "        csv_df.to_parquet(newfilepath)"
   ]
  },
  {
   "cell_type": "code",
   "execution_count": null,
   "metadata": {
    "pycharm": {
     "name": "#%%\n"
    }
   },
   "outputs": [],
   "source": [
    "%%time\n",
    "convert_to_parquet(\"data/2019_csv/\", \"data/2019_parquet/\")"
   ]
  },
  {
   "cell_type": "code",
   "execution_count": null,
   "metadata": {
    "pycharm": {
     "name": "#%%\n"
    }
   },
   "outputs": [],
   "source": []
  }
 ],
 "metadata": {
  "kernelspec": {
   "display_name": "Python 3",
   "language": "python",
   "name": "python3"
  },
  "language_info": {
   "codemirror_mode": {
    "name": "ipython",
    "version": 2
   },
   "file_extension": ".py",
   "mimetype": "text/x-python",
   "name": "python",
   "nbconvert_exporter": "python",
   "pygments_lexer": "ipython2",
   "version": "2.7.6"
  }
 },
 "nbformat": 4,
 "nbformat_minor": 0
}
